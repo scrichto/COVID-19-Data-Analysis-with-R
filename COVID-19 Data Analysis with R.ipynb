{
 "cells": [
  {
   "cell_type": "markdown",
   "metadata": {},
   "source": [
    "## Load Dataset"
   ]
  },
  {
   "cell_type": "code",
   "execution_count": 108,
   "metadata": {},
   "outputs": [
    {
     "name": "stdout",
     "output_type": "stream",
     "text": [
      "package 'ggrepel' successfully unpacked and MD5 sums checked\n",
      "\n",
      "The downloaded binary packages are in\n",
      "\tC:\\Users\\Public\\Documents\\Wondershare\\CreatorTemp\\RtmpeSlVbO\\downloaded_packages\n"
     ]
    },
    {
     "name": "stderr",
     "output_type": "stream",
     "text": [
      "Parsed with column specification:\n",
      "cols(\n",
      "  country = col_character(),\n",
      "  observation_date = col_date(format = \"\"),\n",
      "  days_in_country = col_double(),\n",
      "  cases = col_double(),\n",
      "  deaths = col_double(),\n",
      "  recovered = col_double()\n",
      ")\n"
     ]
    }
   ],
   "source": [
    "# Load required packages\n",
    "suppressPackageStartupMessages(library(tidyverse))\n",
    "install.packages(\"ggrepel\")\n",
    "# Load dataset\n",
    "covid19 <- read_csv(\"covid19_daily.csv\")\n",
    "\n",
    "\n",
    "\n"
   ]
  },
  {
   "cell_type": "markdown",
   "metadata": {},
   "source": [
    "# Quesiton 1"
   ]
  },
  {
   "cell_type": "markdown",
   "metadata": {},
   "source": [
    "### Pt. 1: What country has the most cases of COVID-19?"
   ]
  },
  {
   "cell_type": "code",
   "execution_count": 70,
   "metadata": {
    "scrolled": true
   },
   "outputs": [
    {
     "data": {
      "text/html": [
       "<table>\n",
       "<thead><tr><th scope=col>country</th><th scope=col>observation_date</th><th scope=col>cases</th><th scope=col>deaths</th><th scope=col>recovered</th></tr></thead>\n",
       "<tbody>\n",
       "\t<tr><td>Afghanistan</td><td>2020-03-01 </td><td> 1         </td><td>0          </td><td> 0         </td></tr>\n",
       "\t<tr><td>Algeria    </td><td>2020-03-01 </td><td> 1         </td><td>0          </td><td> 0         </td></tr>\n",
       "\t<tr><td>Armenia    </td><td>2020-03-01 </td><td> 1         </td><td>0          </td><td> 0         </td></tr>\n",
       "\t<tr><td>Australia  </td><td>2020-03-01 </td><td>27         </td><td>1          </td><td>11         </td></tr>\n",
       "\t<tr><td>Austria    </td><td>2020-03-01 </td><td>14         </td><td>0          </td><td> 0         </td></tr>\n",
       "\t<tr><td>Azerbaijan </td><td>2020-03-01 </td><td> 3         </td><td>0          </td><td> 0         </td></tr>\n",
       "</tbody>\n",
       "</table>\n"
      ],
      "text/latex": [
       "\\begin{tabular}{r|lllll}\n",
       " country & observation\\_date & cases & deaths & recovered\\\\\n",
       "\\hline\n",
       "\t Afghanistan & 2020-03-01  &  1          & 0           &  0         \\\\\n",
       "\t Algeria     & 2020-03-01  &  1          & 0           &  0         \\\\\n",
       "\t Armenia     & 2020-03-01  &  1          & 0           &  0         \\\\\n",
       "\t Australia   & 2020-03-01  & 27          & 1           & 11         \\\\\n",
       "\t Austria     & 2020-03-01  & 14          & 0           &  0         \\\\\n",
       "\t Azerbaijan  & 2020-03-01  &  3          & 0           &  0         \\\\\n",
       "\\end{tabular}\n"
      ],
      "text/markdown": [
       "\n",
       "| country | observation_date | cases | deaths | recovered |\n",
       "|---|---|---|---|---|\n",
       "| Afghanistan | 2020-03-01  |  1          | 0           |  0          |\n",
       "| Algeria     | 2020-03-01  |  1          | 0           |  0          |\n",
       "| Armenia     | 2020-03-01  |  1          | 0           |  0          |\n",
       "| Australia   | 2020-03-01  | 27          | 1           | 11          |\n",
       "| Austria     | 2020-03-01  | 14          | 0           |  0          |\n",
       "| Azerbaijan  | 2020-03-01  |  3          | 0           |  0          |\n",
       "\n"
      ],
      "text/plain": [
       "  country     observation_date cases deaths recovered\n",
       "1 Afghanistan 2020-03-01        1    0       0       \n",
       "2 Algeria     2020-03-01        1    0       0       \n",
       "3 Armenia     2020-03-01        1    0       0       \n",
       "4 Australia   2020-03-01       27    1      11       \n",
       "5 Austria     2020-03-01       14    0       0       \n",
       "6 Azerbaijan  2020-03-01        3    0       0       "
      ]
     },
     "metadata": {},
     "output_type": "display_data"
    }
   ],
   "source": [
    "# New DF with total amount of cases, died, and recovered as of 3/1/2020\n",
    "covid19_countries<- covid19 %>%\n",
    "  select(country:recovered) %>%\n",
    "    select(-days_in_country) %>%\n",
    "  filter(observation_date == \"2020-03-01\")\n",
    "\n",
    "head(covid19_countries)"
   ]
  },
  {
   "cell_type": "code",
   "execution_count": 53,
   "metadata": {
    "scrolled": false
   },
   "outputs": [
    {
     "data": {
      "text/html": [
       "<table>\n",
       "<thead><tr><th scope=col>country</th><th scope=col>observation_date</th><th scope=col>cases</th><th scope=col>deaths</th><th scope=col>recovered</th></tr></thead>\n",
       "<tbody>\n",
       "\t<tr><td>Mainland China</td><td>2020-03-01    </td><td>79826         </td><td>2870          </td><td>42118         </td></tr>\n",
       "</tbody>\n",
       "</table>\n"
      ],
      "text/latex": [
       "\\begin{tabular}{r|lllll}\n",
       " country & observation\\_date & cases & deaths & recovered\\\\\n",
       "\\hline\n",
       "\t Mainland China & 2020-03-01     & 79826          & 2870           & 42118         \\\\\n",
       "\\end{tabular}\n"
      ],
      "text/markdown": [
       "\n",
       "| country | observation_date | cases | deaths | recovered |\n",
       "|---|---|---|---|---|\n",
       "| Mainland China | 2020-03-01     | 79826          | 2870           | 42118          |\n",
       "\n"
      ],
      "text/plain": [
       "  country        observation_date cases deaths recovered\n",
       "1 Mainland China 2020-03-01       79826 2870   42118    "
      ]
     },
     "metadata": {},
     "output_type": "display_data"
    }
   ],
   "source": [
    "covid19_countries[covid19_countries$cases == max(covid19_countries$cases),]\n",
    "\n",
    "# Mainland China has the most cases"
   ]
  },
  {
   "cell_type": "markdown",
   "metadata": {},
   "source": [
    "### Pt. 2: Sort the new dataframe by the total number of cases in each country and print the top 6 highest count of cases"
   ]
  },
  {
   "cell_type": "code",
   "execution_count": 93,
   "metadata": {
    "scrolled": true
   },
   "outputs": [
    {
     "data": {
      "text/html": [
       "<table>\n",
       "<thead><tr><th scope=col>country</th><th scope=col>observation_date</th><th scope=col>cases</th><th scope=col>deaths</th><th scope=col>recovered</th></tr></thead>\n",
       "<tbody>\n",
       "\t<tr><td>Mainland China</td><td>2020-03-01    </td><td>79826         </td><td>2870          </td><td>42118         </td></tr>\n",
       "\t<tr><td>South Korea   </td><td>2020-03-01    </td><td> 3736         </td><td>  17          </td><td>   30         </td></tr>\n",
       "\t<tr><td>Italy         </td><td>2020-03-01    </td><td> 1694         </td><td>  34          </td><td>   83         </td></tr>\n",
       "\t<tr><td>Iran          </td><td>2020-03-01    </td><td>  978         </td><td>  54          </td><td>  175         </td></tr>\n",
       "\t<tr><td>Others        </td><td>2020-03-01    </td><td>  705         </td><td>   6          </td><td>   10         </td></tr>\n",
       "\t<tr><td>Japan         </td><td>2020-03-01    </td><td>  256         </td><td>   6          </td><td>   32         </td></tr>\n",
       "</tbody>\n",
       "</table>\n"
      ],
      "text/latex": [
       "\\begin{tabular}{r|lllll}\n",
       " country & observation\\_date & cases & deaths & recovered\\\\\n",
       "\\hline\n",
       "\t Mainland China & 2020-03-01     & 79826          & 2870           & 42118         \\\\\n",
       "\t South Korea    & 2020-03-01     &  3736          &   17           &    30         \\\\\n",
       "\t Italy          & 2020-03-01     &  1694          &   34           &    83         \\\\\n",
       "\t Iran           & 2020-03-01     &   978          &   54           &   175         \\\\\n",
       "\t Others         & 2020-03-01     &   705          &    6           &    10         \\\\\n",
       "\t Japan          & 2020-03-01     &   256          &    6           &    32         \\\\\n",
       "\\end{tabular}\n"
      ],
      "text/markdown": [
       "\n",
       "| country | observation_date | cases | deaths | recovered |\n",
       "|---|---|---|---|---|\n",
       "| Mainland China | 2020-03-01     | 79826          | 2870           | 42118          |\n",
       "| South Korea    | 2020-03-01     |  3736          |   17           |    30          |\n",
       "| Italy          | 2020-03-01     |  1694          |   34           |    83          |\n",
       "| Iran           | 2020-03-01     |   978          |   54           |   175          |\n",
       "| Others         | 2020-03-01     |   705          |    6           |    10          |\n",
       "| Japan          | 2020-03-01     |   256          |    6           |    32          |\n",
       "\n"
      ],
      "text/plain": [
       "  country        observation_date cases deaths recovered\n",
       "1 Mainland China 2020-03-01       79826 2870   42118    \n",
       "2 South Korea    2020-03-01        3736   17      30    \n",
       "3 Italy          2020-03-01        1694   34      83    \n",
       "4 Iran           2020-03-01         978   54     175    \n",
       "5 Others         2020-03-01         705    6      10    \n",
       "6 Japan          2020-03-01         256    6      32    "
      ]
     },
     "metadata": {},
     "output_type": "display_data"
    }
   ],
   "source": [
    "covid19_countries %>%\n",
    "    arrange(desc(cases)) %>%\n",
    "    head()"
   ]
  },
  {
   "cell_type": "markdown",
   "metadata": {},
   "source": [
    "# Question 2 "
   ]
  },
  {
   "cell_type": "markdown",
   "metadata": {},
   "source": [
    " ### Calculate the total number of people that have been infected, died and recovered "
   ]
  },
  {
   "cell_type": "code",
   "execution_count": 56,
   "metadata": {},
   "outputs": [
    {
     "data": {
      "text/html": [
       "<table>\n",
       "<thead><tr><th scope=col>total_cases</th><th scope=col>total_deaths</th><th scope=col>total_recovered</th></tr></thead>\n",
       "<tbody>\n",
       "\t<tr><td>88373</td><td>2996 </td><td>42716</td></tr>\n",
       "</tbody>\n",
       "</table>\n"
      ],
      "text/latex": [
       "\\begin{tabular}{r|lll}\n",
       " total\\_cases & total\\_deaths & total\\_recovered\\\\\n",
       "\\hline\n",
       "\t 88373 & 2996  & 42716\\\\\n",
       "\\end{tabular}\n"
      ],
      "text/markdown": [
       "\n",
       "| total_cases | total_deaths | total_recovered |\n",
       "|---|---|---|\n",
       "| 88373 | 2996  | 42716 |\n",
       "\n"
      ],
      "text/plain": [
       "  total_cases total_deaths total_recovered\n",
       "1 88373       2996         42716          "
      ]
     },
     "metadata": {},
     "output_type": "display_data"
    }
   ],
   "source": [
    "covid19_countries %>%\n",
    "  summarize(\n",
    "    total_cases = sum(cases),\n",
    "    total_deaths = sum(deaths),\n",
    "    total_recovered = sum(recovered)\n",
    "  )"
   ]
  },
  {
   "cell_type": "markdown",
   "metadata": {},
   "source": [
    "# Question 3"
   ]
  },
  {
   "cell_type": "markdown",
   "metadata": {},
   "source": [
    "### Pt. 1: Create a new dataframe that aggregates all the individual rows into global daily totals"
   ]
  },
  {
   "cell_type": "code",
   "execution_count": 86,
   "metadata": {},
   "outputs": [
    {
     "data": {
      "text/html": [
       "<table>\n",
       "<thead><tr><th scope=col>observation_date</th><th scope=col>daily_cases</th><th scope=col>daily_deaths</th><th scope=col>daily_recovered</th></tr></thead>\n",
       "<tbody>\n",
       "\t<tr><td>2020-01-22</td><td> 555      </td><td>17        </td><td>28        </td></tr>\n",
       "\t<tr><td>2020-01-23</td><td> 653      </td><td>18        </td><td>30        </td></tr>\n",
       "\t<tr><td>2020-01-24</td><td> 941      </td><td>26        </td><td>36        </td></tr>\n",
       "\t<tr><td>2020-01-25</td><td>1438      </td><td>42        </td><td>39        </td></tr>\n",
       "\t<tr><td>2020-01-26</td><td>2118      </td><td>56        </td><td>52        </td></tr>\n",
       "\t<tr><td>2020-01-27</td><td>2927      </td><td>82        </td><td>61        </td></tr>\n",
       "</tbody>\n",
       "</table>\n"
      ],
      "text/latex": [
       "\\begin{tabular}{r|llll}\n",
       " observation\\_date & daily\\_cases & daily\\_deaths & daily\\_recovered\\\\\n",
       "\\hline\n",
       "\t 2020-01-22 &  555       & 17         & 28        \\\\\n",
       "\t 2020-01-23 &  653       & 18         & 30        \\\\\n",
       "\t 2020-01-24 &  941       & 26         & 36        \\\\\n",
       "\t 2020-01-25 & 1438       & 42         & 39        \\\\\n",
       "\t 2020-01-26 & 2118       & 56         & 52        \\\\\n",
       "\t 2020-01-27 & 2927       & 82         & 61        \\\\\n",
       "\\end{tabular}\n"
      ],
      "text/markdown": [
       "\n",
       "| observation_date | daily_cases | daily_deaths | daily_recovered |\n",
       "|---|---|---|---|\n",
       "| 2020-01-22 |  555       | 17         | 28         |\n",
       "| 2020-01-23 |  653       | 18         | 30         |\n",
       "| 2020-01-24 |  941       | 26         | 36         |\n",
       "| 2020-01-25 | 1438       | 42         | 39         |\n",
       "| 2020-01-26 | 2118       | 56         | 52         |\n",
       "| 2020-01-27 | 2927       | 82         | 61         |\n",
       "\n"
      ],
      "text/plain": [
       "  observation_date daily_cases daily_deaths daily_recovered\n",
       "1 2020-01-22        555        17           28             \n",
       "2 2020-01-23        653        18           30             \n",
       "3 2020-01-24        941        26           36             \n",
       "4 2020-01-25       1438        42           39             \n",
       "5 2020-01-26       2118        56           52             \n",
       "6 2020-01-27       2927        82           61             "
      ]
     },
     "metadata": {},
     "output_type": "display_data"
    }
   ],
   "source": [
    "covid19_daily<- covid19 %>%\n",
    "  group_by(observation_date) %>%\n",
    "  summarize(\n",
    "    daily_cases = sum(cases),\n",
    "    daily_deaths = sum(deaths),\n",
    "    daily_recovered = sum(recovered)\n",
    "  )\n",
    "\n",
    "head(covid19_daily)"
   ]
  },
  {
   "cell_type": "markdown",
   "metadata": {},
   "source": [
    "### Pt. 2: Plot a single graph showing the number of global cases, deaths, and recovered "
   ]
  },
  {
   "cell_type": "code",
   "execution_count": 89,
   "metadata": {},
   "outputs": [
    {
     "data": {
      "image/png": "[encoded data removed]",
      "text/plain": [
       "plot without title"
      ]
     },
     "metadata": {},
     "output_type": "display_data"
    }
   ],
   "source": [
    "covid19_daily%>%\n",
    "  ggplot() +\n",
    "  labs(title = \"Covid19 daily incidents\", x = \"Date\", y = \"Amount\") +\n",
    "  geom_line(mapping = aes( x = observation_date,\n",
    "                           y = daily_cases, color = 'Daily Cases')) +\n",
    "  geom_line(mapping = aes( x = observation_date,\n",
    "                           y = daily_recovered, color = 'Daily Recovered')) +\n",
    "  geom_line(mapping = aes( x = observation_date,\n",
    "                           y = daily_deaths, color = 'Daily Deaths'))"
   ]
  },
  {
   "cell_type": "markdown",
   "metadata": {},
   "source": [
    "# Question 4"
   ]
  },
  {
   "cell_type": "markdown",
   "metadata": {},
   "source": [
    "### Create 2 new columns into covid19_daily DF to calculate mortality rate and recovery rate "
   ]
  },
  {
   "cell_type": "code",
   "execution_count": 90,
   "metadata": {},
   "outputs": [],
   "source": [
    "covid19_daily_2 <- covid19_daily %>%\n",
    "  mutate(mortality_rate = daily_deaths / daily_cases, \n",
    "         recovery_rate = daily_recovered / daily_cases)"
   ]
  },
  {
   "cell_type": "code",
   "execution_count": 91,
   "metadata": {
    "scrolled": true
   },
   "outputs": [
    {
     "data": {
      "image/png": "[encoded data removed]",
      "text/plain": [
       "plot without title"
      ]
     },
     "metadata": {},
     "output_type": "display_data"
    }
   ],
   "source": [
    "covid19_daily_2 %>%\n",
    " ggplot() +\n",
    "  labs(title = \"Mortality vs. Recovery rates\", x = \"Date\", y = \"Rates\") +\n",
    "  geom_line(mapping = aes( x = observation_date,\n",
    "                           y = mortality_rate, color = 'Mortality Rate')) +\n",
    "  geom_line(mapping = aes( x = observation_date,\n",
    "                           y = recovery_rate, color = 'Recovery Rate'))"
   ]
  },
  {
   "cell_type": "markdown",
   "metadata": {},
   "source": [
    "# Qurestion 5"
   ]
  },
  {
   "cell_type": "markdown",
   "metadata": {},
   "source": [
    "### The Center for Disease Control (CDC) currently estimates that in the US 2019-2020 flu season there have been somewhere between 32-45 million cases of the flu in the USA, resulting in somewhere between 18,000-46,000 deaths.\n",
    "\n",
    "## Calculate the minimum and maximum mortality rates for the flu in the USA from these numbers"
   ]
  },
  {
   "cell_type": "code",
   "execution_count": 98,
   "metadata": {},
   "outputs": [
    {
     "data": {
      "text/html": [
       "4e-04"
      ],
      "text/latex": [
       "4e-04"
      ],
      "text/markdown": [
       "4e-04"
      ],
      "text/plain": [
       "[1] 4e-04"
      ]
     },
     "metadata": {},
     "output_type": "display_data"
    }
   ],
   "source": [
    "# Min Flu mortality rate \n",
    "\n",
    "18000/45000000"
   ]
  },
  {
   "cell_type": "code",
   "execution_count": 99,
   "metadata": {},
   "outputs": [
    {
     "data": {
      "text/html": [
       "0.0014375"
      ],
      "text/latex": [
       "0.0014375"
      ],
      "text/markdown": [
       "0.0014375"
      ],
      "text/plain": [
       "[1] 0.0014375"
      ]
     },
     "metadata": {},
     "output_type": "display_data"
    }
   ],
   "source": [
    "# Max Flu mortality rate\n",
    "\n",
    "46000/32000000"
   ]
  },
  {
   "cell_type": "markdown",
   "metadata": {},
   "source": [
    "## How does this mortality rate range for the flu compare to the mortality rate for COVID-19 that you see on your graph in Q4?"
   ]
  },
  {
   "cell_type": "markdown",
   "metadata": {},
   "source": [
    "### Compared to Covid19, which has a mortality rate around .025, the flu has a much lower rate of mortality"
   ]
  },
  {
   "cell_type": "markdown",
   "metadata": {},
   "source": [
    "# Question 6"
   ]
  },
  {
   "cell_type": "markdown",
   "metadata": {},
   "source": [
    "## Since the virus originated in China, create a China only dataframe to plot a line graph showing the rise in cases"
   ]
  },
  {
   "cell_type": "code",
   "execution_count": 101,
   "metadata": {
    "scrolled": true
   },
   "outputs": [
    {
     "data": {
      "image/png": "[encoded data removed]",
      "text/plain": [
       "plot without title"
      ]
     },
     "metadata": {},
     "output_type": "display_data"
    }
   ],
   "source": [
    "covid19 %>%\n",
    "  filter(country == \"Mainland China\") %>%\n",
    " ggplot() +\n",
    "    geom_line(mapping = aes(x = observation_date, y = cases)) +\n",
    "    labs(title = \"Time series of covid19 outbreak\",\n",
    "         x = \"Date\", y = \"Covid19 incidents\")"
   ]
  },
  {
   "cell_type": "markdown",
   "metadata": {},
   "source": [
    "# Question 7"
   ]
  },
  {
   "cell_type": "markdown",
   "metadata": {},
   "source": [
    "## Omit the count of cases from China and \"Others\""
   ]
  },
  {
   "cell_type": "code",
   "execution_count": 104,
   "metadata": {},
   "outputs": [],
   "source": [
    "covid19_new <- covid19 %>%\n",
    "  filter(country != \"Mainland China\" & country != \"Others\")"
   ]
  },
  {
   "cell_type": "markdown",
   "metadata": {},
   "source": [
    "## Using this new dataframe, create a line graph that shows the growth in the number of cases in each of the remaing countries"
   ]
  },
  {
   "cell_type": "code",
   "execution_count": 105,
   "metadata": {},
   "outputs": [],
   "source": [
    "country_labels <- covid19_new %>%\n",
    "  group_by(country) %>%\n",
    "  filter(\n",
    "    row_number(desc(observation_date)) == 1, \n",
    "    cases > 125 | (cases > 30 & days_in_country < 10)\n",
    "  )"
   ]
  },
  {
   "cell_type": "code",
   "execution_count": 109,
   "metadata": {
    "scrolled": true
   },
   "outputs": [
    {
     "data": {
      "image/png": "[encoded data removed]",
      "text/plain": [
       "plot without title"
      ]
     },
     "metadata": {},
     "output_type": "display_data"
    }
   ],
   "source": [
    "covid19_new %>%\n",
    " ggplot() +\n",
    "    geom_line(mapping = aes(x = days_in_country, \n",
    "                            y = cases, color = country), show.legend = FALSE) +\n",
    "    labs(title = \"Covid19 outbreak dismissing China and Others\",\n",
    "         x = \"Days in country\", y = \"Covid19 incidents\", \n",
    "         color = \"Country\")+\n",
    "  theme(legend.position = \"bottom\") +\n",
    "  ggrepel::geom_label_repel(\n",
    "    mapping = aes(x = days_in_country, y = cases, fill = country, label = country), \n",
    "    data = country_labels, \n",
    "    show.legend = FALSE\n",
    "  ) "
   ]
  },
  {
   "cell_type": "markdown",
   "metadata": {},
   "source": [
    "# Question 8"
   ]
  },
  {
   "cell_type": "markdown",
   "metadata": {},
   "source": [
    "## Would a linear model be appropriate for modeling the number of cases, deaths, and recoveries of the virus?"
   ]
  },
  {
   "cell_type": "markdown",
   "metadata": {},
   "source": [
    "### No, a linear model would not be appropriate since the data is non-linear"
   ]
  },
  {
   "cell_type": "code",
   "execution_count": null,
   "metadata": {},
   "outputs": [],
   "source": []
  }
 ],
 "metadata": {
  "kernelspec": {
   "display_name": "R",
   "language": "R",
   "name": "ir"
  },
  "language_info": {
   "codemirror_mode": "r",
   "file_extension": ".r",
   "mimetype": "text/x-r-source",
   "name": "R",
   "pygments_lexer": "r",
   "version": "3.6.1"
  }
 },
 "nbformat": 4,
 "nbformat_minor": 4
}
